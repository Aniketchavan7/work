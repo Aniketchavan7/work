{
 "cells": [
  {
   "cell_type": "code",
   "execution_count": 51,
   "id": "c9c48bdd-4bfb-4509-897e-54d5f2793269",
   "metadata": {},
   "outputs": [
    {
     "name": "stderr",
     "output_type": "stream",
     "text": [
      "[nltk_data] Downloading package punkt to\n",
      "[nltk_data]     C:\\Users\\Aniket\\AppData\\Roaming\\nltk_data...\n",
      "[nltk_data]   Package punkt is already up-to-date!\n",
      "[nltk_data] Downloading package wordnet to\n",
      "[nltk_data]     C:\\Users\\Aniket\\AppData\\Roaming\\nltk_data...\n",
      "[nltk_data]   Package wordnet is already up-to-date!\n",
      "[nltk_data] Downloading package averaged_perceptron_tagger to\n",
      "[nltk_data]     C:\\Users\\Aniket\\AppData\\Roaming\\nltk_data...\n",
      "[nltk_data]   Package averaged_perceptron_tagger is already up-to-\n",
      "[nltk_data]       date!\n",
      "[nltk_data] Downloading package stopwords to\n",
      "[nltk_data]     C:\\Users\\Aniket\\AppData\\Roaming\\nltk_data...\n",
      "[nltk_data]   Package stopwords is already up-to-date!\n"
     ]
    }
   ],
   "source": [
    "import numpy as np\n",
    "import pandas as pd\n",
    "import math\n",
    "import collections as Counter\n",
    "import nltk as nltk\n",
    "\n",
    "nltk.download('punkt')\n",
    "nltk.download('wordnet')\n",
    "nltk.download('averaged_perceptron_tagger')\n",
    "nltk.download('stopwords')\n",
    "\n",
    "from nltk import pos_tag,word_tokenize\n",
    "from nltk.corpus import stopwords,wordnet\n",
    "from nltk.stem import PorterStemmer,WordNetLemmatizer"
   ]
  },
  {
   "cell_type": "code",
   "execution_count": 52,
   "id": "1db8aadb-309d-4b12-8658-5b16f6fca219",
   "metadata": {},
   "outputs": [],
   "source": [
    "from sklearn.feature_extraction.text import TfidfVectorizer"
   ]
  },
  {
   "cell_type": "code",
   "execution_count": 53,
   "id": "ceb18e6f-a3b3-4d04-a65d-89399214faf1",
   "metadata": {},
   "outputs": [],
   "source": [
    "document=\"\"\"Data science combines statistics, machine learning, and domain knowledge to derive insights from large datasets. It helps businesses make informed decisions by uncovering patterns and trends. With advancements in technology, data science plays a crucial role in various industries, but challenges like data quality and privacy remain. Collaboration and ongoing research are key to maximizing its potential.\n",
    "\"\"\""
   ]
  },
  {
   "cell_type": "code",
   "execution_count": 54,
   "id": "38000ee9-c48b-4b3a-ab4e-b30c1d1fe007",
   "metadata": {},
   "outputs": [
    {
     "name": "stdout",
     "output_type": "stream",
     "text": [
      "['Data', 'science', 'combines', 'statistics', ',', 'machine', 'learning', ',', 'and', 'domain', 'knowledge', 'to', 'derive', 'insights', 'from', 'large', 'datasets', '.', 'It', 'helps', 'businesses', 'make', 'informed', 'decisions', 'by', 'uncovering', 'patterns', 'and', 'trends', '.', 'With', 'advancements', 'in', 'technology', ',', 'data', 'science', 'plays', 'a', 'crucial', 'role', 'in', 'various', 'industries', ',', 'but', 'challenges', 'like', 'data', 'quality', 'and', 'privacy', 'remain', '.', 'Collaboration', 'and', 'ongoing', 'research', 'are', 'key', 'to', 'maximizing', 'its', 'potential', '.']\n"
     ]
    }
   ],
   "source": [
    "words=word_tokenize(document)\n",
    "print(words)"
   ]
  },
  {
   "cell_type": "code",
   "execution_count": 55,
   "id": "71d40c3c-af04-44be-a2f3-608103bc98f2",
   "metadata": {},
   "outputs": [
    {
     "name": "stdout",
     "output_type": "stream",
     "text": [
      "[('Data', 'NNP'), ('science', 'NN'), ('combines', 'NNS'), ('statistics', 'NNS'), (',', ','), ('machine', 'NN'), ('learning', 'NN'), (',', ','), ('and', 'CC'), ('domain', 'VB'), ('knowledge', 'NN'), ('to', 'TO'), ('derive', 'VB'), ('insights', 'NNS'), ('from', 'IN'), ('large', 'JJ'), ('datasets', 'NNS'), ('.', '.'), ('It', 'PRP'), ('helps', 'VBZ'), ('businesses', 'NNS'), ('make', 'VBP'), ('informed', 'VBN'), ('decisions', 'NNS'), ('by', 'IN'), ('uncovering', 'VBG'), ('patterns', 'NNS'), ('and', 'CC'), ('trends', 'NNS'), ('.', '.'), ('With', 'IN'), ('advancements', 'NNS'), ('in', 'IN'), ('technology', 'NN'), (',', ','), ('data', 'NNS'), ('science', 'NN'), ('plays', 'VBZ'), ('a', 'DT'), ('crucial', 'JJ'), ('role', 'NN'), ('in', 'IN'), ('various', 'JJ'), ('industries', 'NNS'), (',', ','), ('but', 'CC'), ('challenges', 'NNS'), ('like', 'IN'), ('data', 'NNS'), ('quality', 'NN'), ('and', 'CC'), ('privacy', 'NN'), ('remain', 'VBP'), ('.', '.'), ('Collaboration', 'NNP'), ('and', 'CC'), ('ongoing', 'JJ'), ('research', 'NN'), ('are', 'VBP'), ('key', 'JJ'), ('to', 'TO'), ('maximizing', 'VBG'), ('its', 'PRP$'), ('potential', 'NN'), ('.', '.')]\n"
     ]
    }
   ],
   "source": [
    "pos=pos_tag(words)\n",
    "print(pos)"
   ]
  },
  {
   "cell_type": "code",
   "execution_count": 56,
   "id": "4963d9c2-7fea-4c81-82ac-ce838c286b23",
   "metadata": {},
   "outputs": [
    {
     "name": "stdout",
     "output_type": "stream",
     "text": [
      "['Data', 'science', 'combines', 'statistics', ',', 'machine', 'learning', ',', 'domain', 'knowledge', 'derive', 'insights', 'large', 'datasets', '.', 'helps', 'businesses', 'make', 'informed', 'decisions', 'uncovering', 'patterns', 'trends', '.', 'advancements', 'technology', ',', 'data', 'science', 'plays', 'crucial', 'role', 'various', 'industries', ',', 'challenges', 'like', 'data', 'quality', 'privacy', 'remain', '.', 'Collaboration', 'ongoing', 'research', 'key', 'maximizing', 'potential', '.']\n"
     ]
    }
   ],
   "source": [
    "stop_words=set(stopwords.words('english'))\n",
    "filtered=[word for word in words if word.lower() not in stop_words]\n",
    "print(filtered)"
   ]
  },
  {
   "cell_type": "code",
   "execution_count": 57,
   "id": "df902d4f-9cf0-41f8-9b96-486197267793",
   "metadata": {},
   "outputs": [
    {
     "name": "stdout",
     "output_type": "stream",
     "text": [
      "['data', 'scienc', 'combin', 'statist', ',', 'machin', 'learn', ',', 'domain', 'knowledg', 'deriv', 'insight', 'larg', 'dataset', '.', 'help', 'busi', 'make', 'inform', 'decis', 'uncov', 'pattern', 'trend', '.', 'advanc', 'technolog', ',', 'data', 'scienc', 'play', 'crucial', 'role', 'variou', 'industri', ',', 'challeng', 'like', 'data', 'qualiti', 'privaci', 'remain', '.', 'collabor', 'ongo', 'research', 'key', 'maxim', 'potenti', '.']\n"
     ]
    }
   ],
   "source": [
    "stemmer=PorterStemmer()\n",
    "stem_words=[stemmer.stem(word) for word in filtered]\n",
    "print(stem_words)"
   ]
  },
  {
   "cell_type": "code",
   "execution_count": 58,
   "id": "ba59ebe0-e54b-4f15-9bd2-849b949d56eb",
   "metadata": {},
   "outputs": [
    {
     "name": "stdout",
     "output_type": "stream",
     "text": [
      "Lemmatization: ['Data', 'science', 'combine', 'statistic', ',', 'machine', 'learning', ',', 'domain', 'knowledge', 'derive', 'insight', 'large', 'datasets', '.', 'help', 'business', 'make', 'informed', 'decision', 'uncovering', 'pattern', 'trend', '.', 'advancement', 'technology', ',', 'data', 'science', 'play', 'crucial', 'role', 'various', 'industry', ',', 'challenge', 'like', 'data', 'quality', 'privacy', 'remain', '.', 'Collaboration', 'ongoing', 'research', 'key', 'maximizing', 'potential', '.']\n"
     ]
    }
   ],
   "source": [
    "lemmatizer = WordNetLemmatizer()\n",
    "lemmatized_words = [lemmatizer.lemmatize(word) for word in filtered]\n",
    "print(\"Lemmatization:\", lemmatized_words)"
   ]
  },
  {
   "cell_type": "code",
   "execution_count": 59,
   "id": "abe36314-5568-4eca-92d4-756a5c3f7d4f",
   "metadata": {},
   "outputs": [
    {
     "name": "stdout",
     "output_type": "stream",
     "text": [
      "matrics [[0.1118034 0.4472136 0.1118034 0.1118034 0.1118034 0.1118034 0.1118034\n",
      "  0.1118034 0.1118034 0.1118034 0.3354102 0.1118034 0.1118034 0.1118034\n",
      "  0.1118034 0.1118034 0.1118034 0.2236068 0.1118034 0.1118034 0.1118034\n",
      "  0.1118034 0.1118034 0.1118034 0.1118034 0.1118034 0.1118034 0.1118034\n",
      "  0.1118034 0.1118034 0.1118034 0.1118034 0.1118034 0.1118034 0.1118034\n",
      "  0.1118034 0.1118034 0.1118034 0.1118034 0.1118034 0.2236068 0.1118034\n",
      "  0.1118034 0.2236068 0.1118034 0.1118034 0.1118034 0.1118034]]\n",
      "terms ['advancements' 'and' 'are' 'businesses' 'but' 'by' 'challenges'\n",
      " 'collaboration' 'combines' 'crucial' 'data' 'datasets' 'decisions'\n",
      " 'derive' 'domain' 'from' 'helps' 'in' 'industries' 'informed' 'insights'\n",
      " 'it' 'its' 'key' 'knowledge' 'large' 'learning' 'like' 'machine' 'make'\n",
      " 'maximizing' 'ongoing' 'patterns' 'plays' 'potential' 'privacy' 'quality'\n",
      " 'remain' 'research' 'role' 'science' 'statistics' 'technology' 'to'\n",
      " 'trends' 'uncovering' 'various' 'with']\n"
     ]
    }
   ],
   "source": [
    "doc=[document]\n",
    "val=TfidfVectorizer()\n",
    "tfidf_mat=val.fit_transform(doc)\n",
    "tfidf_term=val.get_feature_names_out(doc)\n",
    "print(\"matrics\",tfidf_mat.toarray())\n",
    "print('terms',tfidf_term)"
   ]
  },
  {
   "cell_type": "code",
   "execution_count": null,
   "id": "adf4c021-883b-48d9-83e7-762cbe46bb59",
   "metadata": {},
   "outputs": [],
   "source": []
  }
 ],
 "metadata": {
  "kernelspec": {
   "display_name": "Python 3 (ipykernel)",
   "language": "python",
   "name": "python3"
  },
  "language_info": {
   "codemirror_mode": {
    "name": "ipython",
    "version": 3
   },
   "file_extension": ".py",
   "mimetype": "text/x-python",
   "name": "python",
   "nbconvert_exporter": "python",
   "pygments_lexer": "ipython3",
   "version": "3.11.8"
  }
 },
 "nbformat": 4,
 "nbformat_minor": 5
}
